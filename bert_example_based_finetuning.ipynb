{
  "nbformat": 4,
  "nbformat_minor": 0,
  "metadata": {
    "colab": {
      "name": "BERT_example_based_finetuning.ipynb",
      "version": "0.3.2",
      "provenance": [],
      "private_outputs": true,
      "collapsed_sections": []
    },
    "kernelspec": {
      "name": "python3",
      "display_name": "Python 3"
    },
    "accelerator": "GPU"
  },
  "cells": [
    {
      "cell_type": "markdown",
      "metadata": {
        "id": "gMBVb4ZB2txG",
        "colab_type": "text"
      },
      "source": [
        "[Open with Colab](https://colab.research.google.com/github/1never/dialogue_system_with_python/blob/master/bert_example_based_finetuning.ipynb)"
      ]
    },
    {
      "cell_type": "markdown",
      "metadata": {
        "id": "iJ7NUp6d2-yK",
        "colab_type": "text"
      },
      "source": [
        "BERTのPyTorch実装であるPyTorch Pretrained BERTと必要なライブラリをインストールします．\n",
        "\n",
        "同時に，PyTorch Pretrained BERTのソースコードもGitHubからダウンロードします．"
      ]
    },
    {
      "cell_type": "code",
      "metadata": {
        "id": "Z97xnv0yNi98",
        "colab_type": "code",
        "colab": {}
      },
      "source": [
        "!pip install pytorch-pretrained-bert\n",
        "!pip install tensorboardX\n",
        "!git clone https://github.com/huggingface/pytorch-pretrained-BERT.git"
      ],
      "execution_count": 0,
      "outputs": []
    },
    {
      "cell_type": "markdown",
      "metadata": {
        "id": "GDYhjvEj3ePL",
        "colab_type": "text"
      },
      "source": [
        "データの読み込みと保存のためGoogle Driveに接続します．\n",
        "\n",
        "「Go to this URL in a browser: https:// ...」と表示されるのでURLをクリックし，使用するアカウントを選択します．\n",
        "\n",
        "次のページで「許可」ボタンをクリックするとコードが表示されますので，\n",
        "そのコードを「Enter your authorization code:」の下の入力欄に入れ，エンターキーを押してください．"
      ]
    },
    {
      "cell_type": "code",
      "metadata": {
        "id": "GjZNLm5tPAkS",
        "colab_type": "code",
        "colab": {}
      },
      "source": [
        "from google.colab import drive\n",
        "drive.mount('./drive')"
      ],
      "execution_count": 0,
      "outputs": []
    },
    {
      "cell_type": "markdown",
      "metadata": {
        "id": "k6rlKtdY3g9W",
        "colab_type": "text"
      },
      "source": [
        "PyTorch Pretrained BERTで用例ベース応答のための学習を実行します．"
      ]
    },
    {
      "cell_type": "code",
      "metadata": {
        "id": "Tj2ATbHmt9Wp",
        "colab_type": "code",
        "colab": {}
      },
      "source": [
        "!python pytorch-pretrained-BERT/examples/run_classifier.py --data_dir /content/drive/My\\ Drive/dialogue_system_with_python/BERT/ --bert_model bert-base-multilingual-cased  --task_name WNLI --output_dir /content/drive/My\\ Drive/dialogue_system_with_python/BERT/out/ --do_train"
      ],
      "execution_count": 0,
      "outputs": []
    },
    {
      "cell_type": "code",
      "metadata": {
        "id": "AIf7x85QLFia",
        "colab_type": "code",
        "colab": {}
      },
      "source": [
        "!python pytorch-pretrained-BERT/examples/run_classifier.py --data_dir /content/drive/My\\ Drive/'Colab Notebooks'/ --bert_model bert-base-multilingual-cased  --task_nameata_dir /content/drive/My\\ Drive/'Colab Notebooks'/ --bert_model bert-base-multilingual-cased  --task_name WNLI --output_dir /content/drive/My\\ Drive/'Colab Notebooks'/out/ --do_eval\n",
        " WNLI --output_dir /content/drive/My\\ Drive/'Colab Notebooks'/out/ --do_eval"
      ],
      "execution_count": 0,
      "outputs": []
    },
    {
      "cell_type": "code",
      "metadata": {
        "id": "Qyt0UIrKa6Ge",
        "colab_type": "code",
        "colab": {}
      },
      "source": [
        "!cat /content/drive/My\\ Drive/dialogue_system_with_python/BERT/dev.tsv"
      ],
      "execution_count": 0,
      "outputs": []
    }
  ]
}